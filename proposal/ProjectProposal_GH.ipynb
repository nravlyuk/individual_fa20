{
 "cells": [
  {
   "cell_type": "markdown",
   "metadata": {},
   "source": [
    "# COGS 108 - Project Proposal"
   ]
  },
  {
   "cell_type": "markdown",
   "metadata": {},
   "source": [
    "# Names & GitHub ID\n",
    "\n",
    "- Name: Nikita Ravlyuk\n",
    "- GitHub Username: nravlyuk"
   ]
  },
  {
   "cell_type": "markdown",
   "metadata": {},
   "source": [
    "# Research Question"
   ]
  },
  {
   "cell_type": "markdown",
   "metadata": {},
   "source": [
    "What improvements can be made to maximize the increase of customer satisfaction in the least popular parks?"
   ]
  },
  {
   "cell_type": "markdown",
   "metadata": {},
   "source": [
    "## Background and Prior Work"
   ]
  },
  {
   "cell_type": "markdown",
   "metadata": {},
   "source": [
    "Voice of San Diego raised the problem that the City of San Diego does not fund parks [1]. In a sense it's a bold statement and I think that it should be formulated in a bit different way: does City of San Diego funds park efficiently?\n",
    "\n",
    "\n",
    "The new development plan from the city shifts the standards from the number of acres provided to the “value a park delivers to residents, taking into account proposed amenities and recreational activities” [2]. Why don't we take the next step in the offered changes and try to predict which characteristics of the *successful* parks can be adopted to increase the customer satisfaction of the least popular ones?\n",
    "\n",
    "\n",
    "The idea is to find the dependency between the budget of maintaining a park, the budget to improve it and the customer satisfaction level [3]. Finding which upgrades affect the customer satisfaction the most will help to find the focus on which improvements should be prioritized and help to distribute the budget in the right fields for the best effect [4].\n",
    "\n",
    "References:\n",
    "- 1) https://www.voiceofsandiego.org/topics/opinion/improving-san-diegos-parks-will-take-more-input-and-money/\n",
    "- 2) https://www.kusi.com/san-diego-asks-for-public-input-on-new-master-parks-plan/\n",
    "- 3) https://www.sandiego.gov/sites/default/files/fiscal_year_2020_parks_and_recreation_department_adopted_budget.pdf\n",
    "- 4) https://www.sandiego.gov/sites/default/files/fiscal_year_2020_parks_and_recreation_department_capital_improvement_program_adopted_budget.pdf"
   ]
  },
  {
   "cell_type": "markdown",
   "metadata": {},
   "source": [
    "# Hypothesis\n"
   ]
  },
  {
   "cell_type": "markdown",
   "metadata": {},
   "source": [
    "Some amenities and recreational activities in parks are much more efficient and preferred over the others. Distinguishing the trends and prioritizing the ones that potentially improve the customer happiness the most will utilize the maximum effect and off-load the limited budged, and as a result, increase average satisfaction over all the parks."
   ]
  },
  {
   "cell_type": "markdown",
   "metadata": {},
   "source": [
    "# Data"
   ]
  },
  {
   "cell_type": "markdown",
   "metadata": {},
   "source": [
    "The perfect dataset will include the records from three different sources. The key measures that needed to be collected are the park characteristics, customer satisfaction rating and available budget. They can be found in yearly Department Adopted Budget report [3]. The information about the projects can be found in the Capital Improvement Program Adopted Budget [4]. The possible source of the region characteristics is the website www.neighborhoodscout.com.\n",
    "\n",
    "The records should be in the format of 3 tables:\n",
    "\n",
    "1) Records about the park projects:\n",
    "- Project\n",
    "- Park\n",
    "- Project finished date\n",
    "- Budget needed to create\n",
    "- Budget needed to maintain\n",
    "\n",
    "2) Records with characteristics of the park itself\n",
    "- Park\n",
    "- Year\n",
    "- Acres\n",
    "- Customer Satisfaction Rating\n",
    "- Number of customers\n",
    "\n",
    "3) Records about the region the park in:\n",
    "- Region\n",
    "- Year\n",
    "- Population\n",
    "- Economical rating\n",
    "- Racial Diversity\n",
    "- Homelessness rating\n"
   ]
  },
  {
   "cell_type": "markdown",
   "metadata": {},
   "source": [
    "# Ethics & Privacy"
   ]
  },
  {
   "cell_type": "markdown",
   "metadata": {},
   "source": [
    "Most of the information for my dataset can be acquired from the open source, avoiding collection information manually or from individuals, so without risking of disclosing any private information. \n",
    "\n",
    "All the data regarding the projects and the parks themselves is already available as they were processed by the Parks and Recreation department. The records about the region/neighborhood of the park should be requested from the administration of the website www.neighborhoodscout.com. If the permission is not granted, the data should be gathered from the different sources.\n",
    "\n",
    "If the permission is granted, the problem raises about the unknown way the data was collected and processed. The issues of privacy, ethics and unreliable/not accurate data should be considered. To solve this problem, I should analyze the way the data is collected and make needed adjustments to account the possible error in measurements or the privacy issues.\n",
    "\n",
    "The important bias in the dataset and especially in the result is that some projects might be associated with the specific region characteristics like the economical differences and racial diversity. This connection is both statistically important to achieve our goal and well as having some ethical issues which should be avoided. I believe that the way to avoid them is to thoroughly analyze the patterns and the reasons of all the results provided by the model."
   ]
  },
  {
   "cell_type": "code",
   "execution_count": null,
   "metadata": {},
   "outputs": [],
   "source": []
  }
 ],
 "metadata": {
  "kernelspec": {
   "display_name": "Python 3",
   "language": "python",
   "name": "python3"
  },
  "language_info": {
   "codemirror_mode": {
    "name": "ipython",
    "version": 3
   },
   "file_extension": ".py",
   "mimetype": "text/x-python",
   "name": "python",
   "nbconvert_exporter": "python",
   "pygments_lexer": "ipython3",
   "version": "3.7.4"
  }
 },
 "nbformat": 4,
 "nbformat_minor": 2
}
