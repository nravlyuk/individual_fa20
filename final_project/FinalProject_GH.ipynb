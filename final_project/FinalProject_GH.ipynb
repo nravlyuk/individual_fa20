{
 "cells": [
  {
   "cell_type": "markdown",
   "metadata": {},
   "source": [
    "# COGS 108 - Final Project "
   ]
  },
  {
   "cell_type": "markdown",
   "metadata": {},
   "source": [
    "# Overview"
   ]
  },
  {
   "cell_type": "markdown",
   "metadata": {},
   "source": [
    "The research analyzes the relationship between the popularity index of parks managed by the City of San Diego Parks & Recreation Department and their characteristics, including the type of the park, the size of it, median household income of the area the park in, and the number of recreational facilities in it. For each park I gathered these characteristics and analysed in what degree they affect the populatity of the park. As the result of the analysis I discovered that there is a small correlation between the area of the park and it's popularity."
   ]
  },
  {
   "cell_type": "markdown",
   "metadata": {},
   "source": [
    "# Name & GitHub\n",
    "\n",
    "- Name: Nikita Ravlyuk\n",
    "- GitHub Username: nravlyuk"
   ]
  },
  {
   "cell_type": "markdown",
   "metadata": {},
   "source": [
    "# Research Question"
   ]
  },
  {
   "cell_type": "markdown",
   "metadata": {},
   "source": [
    "Which characteristics of a park have the largest effect on how popular the park is?"
   ]
  },
  {
   "cell_type": "markdown",
   "metadata": {},
   "source": [
    "## Background and Prior Work"
   ]
  },
  {
   "cell_type": "markdown",
   "metadata": {},
   "source": [
    "Voice of San Diego raised the problem that the City of San Diego does not fund parks [1]. In a sense it's a bold statement and I think that it should be formulated in a bit different way: does City of San Diego funds park efficiently?\n",
    "\n",
    "The new development plan from the city shifts the standards from the number of **acres** provided to the “value a park delivers to **residents**, taking into account proposed **amenities** and recreational activities” [2]. Why don't we take the next step and verify how much the proposed characteristics affect the popularity of parks and try to predict which characteristics of the *successful* parks can be adopted to find the way to predict the popularity of the new parks?\n",
    "\n",
    "The idea is to find the dependency between the popularity of a park, and the possible characteristics that might affect it. For this research the features are going to be explored include the area size, type, number of recreational facilities within the park and the median household income of the area where the park is located. Finding which features affect the customer satisfaction the most will help to find the focus on which improvements should be prioritized and help to distribute the budget in the right fields for the best effect [3].\n",
    "\n",
    "This research uses the concept of weighted (specific case of bayesian) rating to form the popularity index based on the Yelp average rating and the number of reviews [4]. The reason for that is the both average rating and number of reviews are important in calculating the popularity. Rating of 5.0 with only 1 review should be considered less popular than rating of 4.5 with 242 reviews. \n",
    "\n",
    "References:\n",
    "- 1) https://www.voiceofsandiego.org/topics/opinion/improving-san-diegos-parks-will-take-more-input-and-money/\n",
    "- 2) https://www.kusi.com/san-diego-asks-for-public-input-on-new-master-parks-plan/\n",
    "- 3) https://www.sandiego.gov/sites/default/files/fiscal_year_2020_parks_and_recreation_department_capital_improvement_program_adopted_budget.pdf\n",
    "- 4) https://www.evanmiller.org/bayesian-average-ratings.html"
   ]
  },
  {
   "cell_type": "markdown",
   "metadata": {},
   "source": [
    "# Hypothesis\n"
   ]
  },
  {
   "cell_type": "markdown",
   "metadata": {},
   "source": [
    "Some parks are much more popular and preferred for recreational activities over the others. Distinguishing the trends and predicting the location a new park or recreation center should be opened is going to potentially improve the customer happiness the most and will utilize the maximum effect and off-load the limited budged, and as a result, increase average satisfaction over all the parks.\n",
    "\n",
    "I hypothesize that the type of a park, the provided recreational facilities and the median income of the area where the park is located will have the most impact on how popular the park is. In the other hand the area of the park will have as little as no effect on the popularity as \"new development plan from the city shifts the standards from the number of acres...\" [2]."
   ]
  },
  {
   "cell_type": "markdown",
   "metadata": {},
   "source": [
    "# Dataset(s)"
   ]
  },
  {
   "cell_type": "markdown",
   "metadata": {},
   "source": [
    "- Dataset Name: San Diego Parks Yelp Data\n",
    "- Link to the dataset: https://www.yelp.com/ (curated by Prof Ellis)\n",
    "- Number of observations: 833\n",
    "\n",
    "The dataset consists of 833 entries of information about parks in San Diego area.\n",
    "\n",
    "- Dataset Name: Household income dataset\n",
    "- Link to the dataset: https://datasurfer.sandag.org\n",
    "- Number of observations: 1238\n",
    "\n",
    "The dataset consists of the information about the number of households within income categories over the neighbourhoods (zip code) in San Diego. It also includes the median of the household income within the specific area (zip code).\n",
    "\n",
    "- Dataset Name: Park Locations Data\n",
    "- Link to the dataset: https://data.sandiego.gov/datasets/park-locations/\n",
    "- Number of observations: 2769\n",
    "\n",
    "The dataset includes properties, their locations and features managed by the City of San Diego Parks & Recreation Department.\n",
    "\n",
    "- Dataset Name: Recreation Center Locations\n",
    "- Link to the dataset: https://data.sandiego.gov/datasets/recreation-center-locations/\n",
    "- Number of observations: 57\n",
    "\n",
    "The dataset includes the locations and features of Recreation centers operated by the City of San Diego Park and Recreation Department.\n",
    "\n",
    "All the datasets will be combined into the DataFrame which consists of the parks maintained by City of San Diego Park and Recreation Department, and their features. The features are going to incude the name of the park, type of the park, total area, it's zip code, median household income within this zip code, number of recreational facilities on it's territory, and a popularity index of this park that is going to be calculated based on Yelp reviews."
   ]
  },
  {
   "cell_type": "markdown",
   "metadata": {},
   "source": [
    "# Setup"
   ]
  },
  {
   "cell_type": "code",
   "execution_count": 1,
   "metadata": {},
   "outputs": [],
   "source": [
    "import pandas as pd\n",
    "import geopandas as gpd\n",
    "import numpy as np\n",
    "import seaborn as sns\n",
    "import matplotlib.pyplot as plt\n",
    "import patsy\n",
    "import statsmodels.api as sm"
   ]
  },
  {
   "cell_type": "markdown",
   "metadata": {},
   "source": [
    "# Data Cleaning"
   ]
  },
  {
   "cell_type": "markdown",
   "metadata": {},
   "source": [
    "**Yelp reviews dataset**\n",
    "\n",
    "First step is to import the Yelp dataset, extract the zip code of the reviewed park and to drop unnecesary columns. By doing so we see that some of the parks are located in Tijuana, Mexico, and a couple doesn't have zip-codes. Dropping them we decrease the number of rows from 833 to 828."
   ]
  },
  {
   "cell_type": "code",
   "execution_count": 2,
   "metadata": {},
   "outputs": [
    {
     "data": {
      "text/html": [
       "<div>\n",
       "<style scoped>\n",
       "    .dataframe tbody tr th:only-of-type {\n",
       "        vertical-align: middle;\n",
       "    }\n",
       "\n",
       "    .dataframe tbody tr th {\n",
       "        vertical-align: top;\n",
       "    }\n",
       "\n",
       "    .dataframe thead th {\n",
       "        text-align: right;\n",
       "    }\n",
       "</style>\n",
       "<table border=\"1\" class=\"dataframe\">\n",
       "  <thead>\n",
       "    <tr style=\"text-align: right;\">\n",
       "      <th></th>\n",
       "      <th>name</th>\n",
       "      <th>rating</th>\n",
       "      <th>review_count</th>\n",
       "      <th>longitude</th>\n",
       "      <th>latitude</th>\n",
       "      <th>zip</th>\n",
       "    </tr>\n",
       "  </thead>\n",
       "  <tbody>\n",
       "    <tr>\n",
       "      <th>0</th>\n",
       "      <td>Balboa Park</td>\n",
       "      <td>5.0</td>\n",
       "      <td>2105</td>\n",
       "      <td>-117.153150</td>\n",
       "      <td>32.734502</td>\n",
       "      <td>92101</td>\n",
       "    </tr>\n",
       "    <tr>\n",
       "      <th>1</th>\n",
       "      <td>Civita Park</td>\n",
       "      <td>4.5</td>\n",
       "      <td>46</td>\n",
       "      <td>-117.147278</td>\n",
       "      <td>32.778315</td>\n",
       "      <td>92108</td>\n",
       "    </tr>\n",
       "    <tr>\n",
       "      <th>2</th>\n",
       "      <td>Waterfront Park</td>\n",
       "      <td>4.5</td>\n",
       "      <td>242</td>\n",
       "      <td>-117.172479</td>\n",
       "      <td>32.721952</td>\n",
       "      <td>92101</td>\n",
       "    </tr>\n",
       "    <tr>\n",
       "      <th>3</th>\n",
       "      <td>Trolley Barn Park</td>\n",
       "      <td>4.5</td>\n",
       "      <td>102</td>\n",
       "      <td>-117.143789</td>\n",
       "      <td>32.762463</td>\n",
       "      <td>92116</td>\n",
       "    </tr>\n",
       "    <tr>\n",
       "      <th>4</th>\n",
       "      <td>Bay View Park</td>\n",
       "      <td>5.0</td>\n",
       "      <td>42</td>\n",
       "      <td>-117.178967</td>\n",
       "      <td>32.701785</td>\n",
       "      <td>92118</td>\n",
       "    </tr>\n",
       "  </tbody>\n",
       "</table>\n",
       "</div>"
      ],
      "text/plain": [
       "                name  rating  review_count   longitude   latitude    zip\n",
       "0        Balboa Park     5.0          2105 -117.153150  32.734502  92101\n",
       "1        Civita Park     4.5            46 -117.147278  32.778315  92108\n",
       "2    Waterfront Park     4.5           242 -117.172479  32.721952  92101\n",
       "3  Trolley Barn Park     4.5           102 -117.143789  32.762463  92116\n",
       "4      Bay View Park     5.0            42 -117.178967  32.701785  92118"
      ]
     },
     "execution_count": 2,
     "metadata": {},
     "output_type": "execute_result"
    }
   ],
   "source": [
    "# Import income data / find the zip-code of the park\n",
    "df_yelp = pd.read_csv(\"../data/yelp_SD_parks.csv\")\n",
    "df_yelp['zip'] = df_yelp.apply(lambda row: row.address[-5:] if row.address[-5:-4] == \"9\" else np.nan, axis = 1) \n",
    "# Drop unnecesary columns\n",
    "df_yelp = df_yelp.drop(columns=['address', 'phone', 'id', 'url', 'is_closed'])\n",
    "# Drop outlier rows\n",
    "df_yelp = df_yelp.dropna()\n",
    "df_yelp['zip'] = df_yelp['zip'].astype(int)\n",
    "df_yelp.head()"
   ]
  },
  {
   "cell_type": "markdown",
   "metadata": {},
   "source": [
    "**Median household income dataset**\n",
    "\n",
    "The second dataset we import is *household income* dataset. We drop unnecesary columns and filter out only rows that consist the information about median household income within the zip.\n"
   ]
  },
  {
   "cell_type": "code",
   "execution_count": 3,
   "metadata": {},
   "outputs": [
    {
     "data": {
      "text/html": [
       "<div>\n",
       "<style scoped>\n",
       "    .dataframe tbody tr th:only-of-type {\n",
       "        vertical-align: middle;\n",
       "    }\n",
       "\n",
       "    .dataframe tbody tr th {\n",
       "        vertical-align: top;\n",
       "    }\n",
       "\n",
       "    .dataframe thead th {\n",
       "        text-align: right;\n",
       "    }\n",
       "</style>\n",
       "<table border=\"1\" class=\"dataframe\">\n",
       "  <thead>\n",
       "    <tr style=\"text-align: right;\">\n",
       "      <th></th>\n",
       "      <th>zip</th>\n",
       "      <th>median_income</th>\n",
       "    </tr>\n",
       "  </thead>\n",
       "  <tbody>\n",
       "    <tr>\n",
       "      <th>1130</th>\n",
       "      <td>91901</td>\n",
       "      <td>80513</td>\n",
       "    </tr>\n",
       "    <tr>\n",
       "      <th>1131</th>\n",
       "      <td>91902</td>\n",
       "      <td>76075</td>\n",
       "    </tr>\n",
       "    <tr>\n",
       "      <th>1132</th>\n",
       "      <td>91905</td>\n",
       "      <td>53429</td>\n",
       "    </tr>\n",
       "    <tr>\n",
       "      <th>1133</th>\n",
       "      <td>91906</td>\n",
       "      <td>53627</td>\n",
       "    </tr>\n",
       "    <tr>\n",
       "      <th>1134</th>\n",
       "      <td>91910</td>\n",
       "      <td>54288</td>\n",
       "    </tr>\n",
       "  </tbody>\n",
       "</table>\n",
       "</div>"
      ],
      "text/plain": [
       "        zip  median_income\n",
       "1130  91901          80513\n",
       "1131  91902          76075\n",
       "1132  91905          53429\n",
       "1133  91906          53627\n",
       "1134  91910          54288"
      ]
     },
     "execution_count": 3,
     "metadata": {},
     "output_type": "execute_result"
    }
   ],
   "source": [
    "# Import income data / gather the median household income values pre index\n",
    "df_median_income = pd.read_csv(\"../data/SD_income_censusacs_2010.csv\")\n",
    "df_median_income = df_median_income.rename(columns={\"Zip\": \"zip\", \"YEAR\": \"year\", \"INCOME\": \"income\", \"NUMBER\": \"median_income\"})\n",
    "df_median_income = df_median_income[df_median_income.income == \"median income\"]\n",
    "df_median_income = df_median_income.dropna()\n",
    "df_median_income = df_median_income.drop(columns=['year', 'income'])\n",
    "df_median_income.head()"
   ]
  },
  {
   "cell_type": "markdown",
   "metadata": {},
   "source": [
    "Now we can merge both datasets. After merging every park consists information about the median household income in the park's area. As expected, we also filter out parks which are located outside of San Diego area (*example*: Dana Point, which is in Orange County), downsizing the number of parks to 793 rows. "
   ]
  },
  {
   "cell_type": "code",
   "execution_count": 4,
   "metadata": {},
   "outputs": [
    {
     "data": {
      "text/html": [
       "<div>\n",
       "<style scoped>\n",
       "    .dataframe tbody tr th:only-of-type {\n",
       "        vertical-align: middle;\n",
       "    }\n",
       "\n",
       "    .dataframe tbody tr th {\n",
       "        vertical-align: top;\n",
       "    }\n",
       "\n",
       "    .dataframe thead th {\n",
       "        text-align: right;\n",
       "    }\n",
       "</style>\n",
       "<table border=\"1\" class=\"dataframe\">\n",
       "  <thead>\n",
       "    <tr style=\"text-align: right;\">\n",
       "      <th></th>\n",
       "      <th>name</th>\n",
       "      <th>rating</th>\n",
       "      <th>review_count</th>\n",
       "      <th>longitude</th>\n",
       "      <th>latitude</th>\n",
       "      <th>zip</th>\n",
       "      <th>median_income</th>\n",
       "    </tr>\n",
       "  </thead>\n",
       "  <tbody>\n",
       "    <tr>\n",
       "      <th>0</th>\n",
       "      <td>Balboa Park</td>\n",
       "      <td>5.0</td>\n",
       "      <td>2105</td>\n",
       "      <td>-117.153150</td>\n",
       "      <td>32.734502</td>\n",
       "      <td>92101</td>\n",
       "      <td>49158</td>\n",
       "    </tr>\n",
       "    <tr>\n",
       "      <th>1</th>\n",
       "      <td>Waterfront Park</td>\n",
       "      <td>4.5</td>\n",
       "      <td>242</td>\n",
       "      <td>-117.172479</td>\n",
       "      <td>32.721952</td>\n",
       "      <td>92101</td>\n",
       "      <td>49158</td>\n",
       "    </tr>\n",
       "    <tr>\n",
       "      <th>2</th>\n",
       "      <td>Pioneer Park</td>\n",
       "      <td>4.0</td>\n",
       "      <td>55</td>\n",
       "      <td>-117.177081</td>\n",
       "      <td>32.749802</td>\n",
       "      <td>92101</td>\n",
       "      <td>49158</td>\n",
       "    </tr>\n",
       "    <tr>\n",
       "      <th>3</th>\n",
       "      <td>Harbor Island Park</td>\n",
       "      <td>4.5</td>\n",
       "      <td>71</td>\n",
       "      <td>-117.209091</td>\n",
       "      <td>32.725170</td>\n",
       "      <td>92101</td>\n",
       "      <td>49158</td>\n",
       "    </tr>\n",
       "    <tr>\n",
       "      <th>4</th>\n",
       "      <td>Golden Hill Park</td>\n",
       "      <td>4.0</td>\n",
       "      <td>35</td>\n",
       "      <td>-117.137259</td>\n",
       "      <td>32.720764</td>\n",
       "      <td>92101</td>\n",
       "      <td>49158</td>\n",
       "    </tr>\n",
       "  </tbody>\n",
       "</table>\n",
       "</div>"
      ],
      "text/plain": [
       "                 name  rating  review_count   longitude   latitude    zip  \\\n",
       "0         Balboa Park     5.0          2105 -117.153150  32.734502  92101   \n",
       "1     Waterfront Park     4.5           242 -117.172479  32.721952  92101   \n",
       "2        Pioneer Park     4.0            55 -117.177081  32.749802  92101   \n",
       "3  Harbor Island Park     4.5            71 -117.209091  32.725170  92101   \n",
       "4    Golden Hill Park     4.0            35 -117.137259  32.720764  92101   \n",
       "\n",
       "   median_income  \n",
       "0          49158  \n",
       "1          49158  \n",
       "2          49158  \n",
       "3          49158  \n",
       "4          49158  "
      ]
     },
     "execution_count": 4,
     "metadata": {},
     "output_type": "execute_result"
    }
   ],
   "source": [
    "# Add median income of the neighbourhood to the yelp reviews\n",
    "df = df_yelp.merge(df_median_income, on='zip', how='inner')\n",
    "df.head()"
   ]
  },
  {
   "cell_type": "markdown",
   "metadata": {},
   "source": [
    "**Park Locations Dataset**\n",
    "\n",
    "Next dataset we import is *parks geolocation dataset*. As we are going to use it to map the location of the parks from the Yelp reviews to the parks from geolocation dataset, we also need to convert longitude and latitude of the park to the POINT object. We will call the column of the POINT coordinates - *geometry*."
   ]
  },
  {
   "cell_type": "code",
   "execution_count": 5,
   "metadata": {},
   "outputs": [
    {
     "data": {
      "text/html": [
       "<div>\n",
       "<style scoped>\n",
       "    .dataframe tbody tr th:only-of-type {\n",
       "        vertical-align: middle;\n",
       "    }\n",
       "\n",
       "    .dataframe tbody tr th {\n",
       "        vertical-align: top;\n",
       "    }\n",
       "\n",
       "    .dataframe thead th {\n",
       "        text-align: right;\n",
       "    }\n",
       "</style>\n",
       "<table border=\"1\" class=\"dataframe\">\n",
       "  <thead>\n",
       "    <tr style=\"text-align: right;\">\n",
       "      <th></th>\n",
       "      <th>name</th>\n",
       "      <th>rating</th>\n",
       "      <th>review_count</th>\n",
       "      <th>zip</th>\n",
       "      <th>median_income</th>\n",
       "      <th>geometry</th>\n",
       "    </tr>\n",
       "  </thead>\n",
       "  <tbody>\n",
       "    <tr>\n",
       "      <th>0</th>\n",
       "      <td>Balboa Park</td>\n",
       "      <td>5.0</td>\n",
       "      <td>2105</td>\n",
       "      <td>92101</td>\n",
       "      <td>49158</td>\n",
       "      <td>POINT (-117.15315 32.73450)</td>\n",
       "    </tr>\n",
       "    <tr>\n",
       "      <th>1</th>\n",
       "      <td>Waterfront Park</td>\n",
       "      <td>4.5</td>\n",
       "      <td>242</td>\n",
       "      <td>92101</td>\n",
       "      <td>49158</td>\n",
       "      <td>POINT (-117.17248 32.72195)</td>\n",
       "    </tr>\n",
       "    <tr>\n",
       "      <th>2</th>\n",
       "      <td>Pioneer Park</td>\n",
       "      <td>4.0</td>\n",
       "      <td>55</td>\n",
       "      <td>92101</td>\n",
       "      <td>49158</td>\n",
       "      <td>POINT (-117.17708 32.74980)</td>\n",
       "    </tr>\n",
       "    <tr>\n",
       "      <th>3</th>\n",
       "      <td>Harbor Island Park</td>\n",
       "      <td>4.5</td>\n",
       "      <td>71</td>\n",
       "      <td>92101</td>\n",
       "      <td>49158</td>\n",
       "      <td>POINT (-117.20909 32.72517)</td>\n",
       "    </tr>\n",
       "    <tr>\n",
       "      <th>4</th>\n",
       "      <td>Golden Hill Park</td>\n",
       "      <td>4.0</td>\n",
       "      <td>35</td>\n",
       "      <td>92101</td>\n",
       "      <td>49158</td>\n",
       "      <td>POINT (-117.13726 32.72076)</td>\n",
       "    </tr>\n",
       "  </tbody>\n",
       "</table>\n",
       "</div>"
      ],
      "text/plain": [
       "                 name  rating  review_count    zip  median_income  \\\n",
       "0         Balboa Park     5.0          2105  92101          49158   \n",
       "1     Waterfront Park     4.5           242  92101          49158   \n",
       "2        Pioneer Park     4.0            55  92101          49158   \n",
       "3  Harbor Island Park     4.5            71  92101          49158   \n",
       "4    Golden Hill Park     4.0            35  92101          49158   \n",
       "\n",
       "                      geometry  \n",
       "0  POINT (-117.15315 32.73450)  \n",
       "1  POINT (-117.17248 32.72195)  \n",
       "2  POINT (-117.17708 32.74980)  \n",
       "3  POINT (-117.20909 32.72517)  \n",
       "4  POINT (-117.13726 32.72076)  "
      ]
     },
     "execution_count": 5,
     "metadata": {},
     "output_type": "execute_result"
    }
   ],
   "source": [
    "# Import parks geolocation data\n",
    "gdf_sd = gpd.read_file(\"../data/parks_datasd.geojson\")\n",
    "gpd.GeoDataFrame(df, geometry=gpd.points_from_xy(df.longitude, df.latitude))\n",
    "df = df.drop(columns=['longitude', 'latitude'])\n",
    "df.head()"
   ]
  },
  {
   "cell_type": "markdown",
   "metadata": {},
   "source": [
    "Next, we need to map the parks from Yelp reviews to the ones from Parks geolocation dataset to find parks' types and sizes."
   ]
  },
  {
   "cell_type": "code",
   "execution_count": 6,
   "metadata": {},
   "outputs": [
    {
     "data": {
      "text/html": [
       "<div>\n",
       "<style scoped>\n",
       "    .dataframe tbody tr th:only-of-type {\n",
       "        vertical-align: middle;\n",
       "    }\n",
       "\n",
       "    .dataframe tbody tr th {\n",
       "        vertical-align: top;\n",
       "    }\n",
       "\n",
       "    .dataframe thead th {\n",
       "        text-align: right;\n",
       "    }\n",
       "</style>\n",
       "<table border=\"1\" class=\"dataframe\">\n",
       "  <thead>\n",
       "    <tr style=\"text-align: right;\">\n",
       "      <th></th>\n",
       "      <th>name</th>\n",
       "      <th>rating</th>\n",
       "      <th>review_count</th>\n",
       "      <th>zip</th>\n",
       "      <th>median_income</th>\n",
       "      <th>type</th>\n",
       "      <th>acres</th>\n",
       "      <th>geometry</th>\n",
       "    </tr>\n",
       "  </thead>\n",
       "  <tbody>\n",
       "    <tr>\n",
       "      <th>0</th>\n",
       "      <td>Balboa Park</td>\n",
       "      <td>5.0</td>\n",
       "      <td>2105</td>\n",
       "      <td>92101</td>\n",
       "      <td>49158</td>\n",
       "      <td>Regional</td>\n",
       "      <td>1089.476460</td>\n",
       "      <td>(POLYGON ((-117.15295972 32.74370296, -117.152...</td>\n",
       "    </tr>\n",
       "    <tr>\n",
       "      <th>1</th>\n",
       "      <td>Waterfront Park</td>\n",
       "      <td>4.5</td>\n",
       "      <td>242</td>\n",
       "      <td>92101</td>\n",
       "      <td>49158</td>\n",
       "      <td>Regional</td>\n",
       "      <td>12.693865</td>\n",
       "      <td>POLYGON ((-117.17155566 32.72449793, -117.1727...</td>\n",
       "    </tr>\n",
       "    <tr>\n",
       "      <th>2</th>\n",
       "      <td>Pioneer Park</td>\n",
       "      <td>4.0</td>\n",
       "      <td>55</td>\n",
       "      <td>92101</td>\n",
       "      <td>49158</td>\n",
       "      <td>Local</td>\n",
       "      <td>11.353881</td>\n",
       "      <td>(POLYGON ((-117.17663874 32.74977954, -117.176...</td>\n",
       "    </tr>\n",
       "    <tr>\n",
       "      <th>4</th>\n",
       "      <td>Golden Hill Park</td>\n",
       "      <td>4.0</td>\n",
       "      <td>35</td>\n",
       "      <td>92101</td>\n",
       "      <td>49158</td>\n",
       "      <td>Regional</td>\n",
       "      <td>1089.476460</td>\n",
       "      <td>(POLYGON ((-117.15295972 32.74370296, -117.152...</td>\n",
       "    </tr>\n",
       "    <tr>\n",
       "      <th>8</th>\n",
       "      <td>Balboa Park Kids Playground</td>\n",
       "      <td>4.0</td>\n",
       "      <td>13</td>\n",
       "      <td>92101</td>\n",
       "      <td>49158</td>\n",
       "      <td>Regional</td>\n",
       "      <td>1089.476460</td>\n",
       "      <td>(POLYGON ((-117.15295972 32.74370296, -117.152...</td>\n",
       "    </tr>\n",
       "  </tbody>\n",
       "</table>\n",
       "</div>"
      ],
      "text/plain": [
       "                          name  rating  review_count    zip  median_income  \\\n",
       "0                  Balboa Park     5.0          2105  92101          49158   \n",
       "1              Waterfront Park     4.5           242  92101          49158   \n",
       "2                 Pioneer Park     4.0            55  92101          49158   \n",
       "4             Golden Hill Park     4.0            35  92101          49158   \n",
       "8  Balboa Park Kids Playground     4.0            13  92101          49158   \n",
       "\n",
       "       type        acres                                           geometry  \n",
       "0  Regional  1089.476460  (POLYGON ((-117.15295972 32.74370296, -117.152...  \n",
       "1  Regional    12.693865  POLYGON ((-117.17155566 32.72449793, -117.1727...  \n",
       "2     Local    11.353881  (POLYGON ((-117.17663874 32.74977954, -117.176...  \n",
       "4  Regional  1089.476460  (POLYGON ((-117.15295972 32.74370296, -117.152...  \n",
       "8  Regional  1089.476460  (POLYGON ((-117.15295972 32.74370296, -117.152...  "
      ]
     },
     "execution_count": 6,
     "metadata": {},
     "output_type": "execute_result"
    }
   ],
   "source": [
    "# Find the park and gather information about the park type and size.\n",
    "def find_polygon(point):\n",
    "    for index, row in gdf_sd.iterrows():\n",
    "        if row['geometry'].contains(point):\n",
    "            return row['park_type'], row['gis_acres'], row['geometry']\n",
    "    return np.nan, np.nan, np.nan\n",
    "\n",
    "temp = df.apply(lambda row: find_polygon(row.geometry), axis = 1)\n",
    "t1=[]\n",
    "t2=[]\n",
    "t3=[]\n",
    "for t in temp:\n",
    "    t1.append(t[0])\n",
    "    t2.append(t[1])\n",
    "    t3.append(t[2])\n",
    "df['type'] = t1\n",
    "df['acres'] = t2\n",
    "df = df.drop(columns=['geometry'])\n",
    "df['geometry'] = t3\n",
    "df= df.dropna()\n",
    "\n",
    "df.head()"
   ]
  },
  {
   "cell_type": "markdown",
   "metadata": {},
   "source": [
    "After doing so we observe that the number of entries decreased from 793 to 218 rows. We verify that entries like *Pushkin Russian Restaurant* dissapeared, leaving us with the reviews of only needed parks. We can also observe some duplicates as one park can be within another (*example*: Golden Hill Park is within Balboa Park). To address this issue we can drop least popular parks which are located within the lerger park."
   ]
  },
  {
   "cell_type": "code",
   "execution_count": 7,
   "metadata": {},
   "outputs": [
    {
     "data": {
      "text/html": [
       "<div>\n",
       "<style scoped>\n",
       "    .dataframe tbody tr th:only-of-type {\n",
       "        vertical-align: middle;\n",
       "    }\n",
       "\n",
       "    .dataframe tbody tr th {\n",
       "        vertical-align: top;\n",
       "    }\n",
       "\n",
       "    .dataframe thead th {\n",
       "        text-align: right;\n",
       "    }\n",
       "</style>\n",
       "<table border=\"1\" class=\"dataframe\">\n",
       "  <thead>\n",
       "    <tr style=\"text-align: right;\">\n",
       "      <th></th>\n",
       "      <th>name</th>\n",
       "      <th>rating</th>\n",
       "      <th>review_count</th>\n",
       "      <th>zip</th>\n",
       "      <th>median_income</th>\n",
       "      <th>type</th>\n",
       "      <th>acres</th>\n",
       "      <th>geometry</th>\n",
       "    </tr>\n",
       "  </thead>\n",
       "  <tbody>\n",
       "    <tr>\n",
       "      <th>0</th>\n",
       "      <td>Balboa Park</td>\n",
       "      <td>5.0</td>\n",
       "      <td>2105</td>\n",
       "      <td>92101</td>\n",
       "      <td>49158</td>\n",
       "      <td>Regional</td>\n",
       "      <td>1089.476460</td>\n",
       "      <td>(POLYGON ((-117.15295972 32.74370296, -117.152...</td>\n",
       "    </tr>\n",
       "    <tr>\n",
       "      <th>2</th>\n",
       "      <td>Torrey Pines State Reserve</td>\n",
       "      <td>4.5</td>\n",
       "      <td>1319</td>\n",
       "      <td>92037</td>\n",
       "      <td>94084</td>\n",
       "      <td>State</td>\n",
       "      <td>1466.798603</td>\n",
       "      <td>(POLYGON ((-117.25091718 32.93199299, -117.253...</td>\n",
       "    </tr>\n",
       "    <tr>\n",
       "      <th>3</th>\n",
       "      <td>Cowles Mountain</td>\n",
       "      <td>4.5</td>\n",
       "      <td>945</td>\n",
       "      <td>92119</td>\n",
       "      <td>74070</td>\n",
       "      <td>Open Space</td>\n",
       "      <td>381.708900</td>\n",
       "      <td>POLYGON ((-117.03315905 32.80337005, -117.0308...</td>\n",
       "    </tr>\n",
       "    <tr>\n",
       "      <th>4</th>\n",
       "      <td>Mount Soledad National Veterans Memorial</td>\n",
       "      <td>5.0</td>\n",
       "      <td>421</td>\n",
       "      <td>92037</td>\n",
       "      <td>94084</td>\n",
       "      <td>Local</td>\n",
       "      <td>118.536897</td>\n",
       "      <td>POLYGON ((-117.24837347 32.83987831, -117.2471...</td>\n",
       "    </tr>\n",
       "    <tr>\n",
       "      <th>5</th>\n",
       "      <td>Cabrillo National Monument</td>\n",
       "      <td>4.5</td>\n",
       "      <td>681</td>\n",
       "      <td>92106</td>\n",
       "      <td>75830</td>\n",
       "      <td>National</td>\n",
       "      <td>153.276913</td>\n",
       "      <td>POLYGON ((-117.24161697 32.67721691, -117.2416...</td>\n",
       "    </tr>\n",
       "  </tbody>\n",
       "</table>\n",
       "</div>"
      ],
      "text/plain": [
       "                                       name  rating  review_count    zip  \\\n",
       "0                               Balboa Park     5.0          2105  92101   \n",
       "2                Torrey Pines State Reserve     4.5          1319  92037   \n",
       "3                           Cowles Mountain     4.5           945  92119   \n",
       "4  Mount Soledad National Veterans Memorial     5.0           421  92037   \n",
       "5                Cabrillo National Monument     4.5           681  92106   \n",
       "\n",
       "   median_income        type        acres  \\\n",
       "0          49158    Regional  1089.476460   \n",
       "2          94084       State  1466.798603   \n",
       "3          74070  Open Space   381.708900   \n",
       "4          94084       Local   118.536897   \n",
       "5          75830    National   153.276913   \n",
       "\n",
       "                                            geometry  \n",
       "0  (POLYGON ((-117.15295972 32.74370296, -117.152...  \n",
       "2  (POLYGON ((-117.25091718 32.93199299, -117.253...  \n",
       "3  POLYGON ((-117.03315905 32.80337005, -117.0308...  \n",
       "4  POLYGON ((-117.24837347 32.83987831, -117.2471...  \n",
       "5  POLYGON ((-117.24161697 32.67721691, -117.2416...  "
      ]
     },
     "execution_count": 7,
     "metadata": {},
     "output_type": "execute_result"
    }
   ],
   "source": [
    "#Remove all the duplicates\n",
    "acs = set()\n",
    "def mark_duplicates(acres):\n",
    "    if acres in acs:\n",
    "        return np.nan\n",
    "    acs.add(acres)\n",
    "    return True\n",
    "df['popularity'] = df.apply(lambda row: row['rating'] * np.log(row['review_count']), axis = 1) #placeholder for sort purpose\n",
    "df = df.sort_values(by=['popularity'], ascending=False)\n",
    "df = df.reset_index(drop = True)\n",
    "df['mark'] = df.apply(lambda row: mark_duplicates(row.acres), axis = 1)\n",
    "df = df.dropna()\n",
    "df = df.drop(columns=['mark', 'popularity'])\n",
    "df.head()"
   ]
  },
  {
   "cell_type": "markdown",
   "metadata": {},
   "source": [
    "As we can see, we reduced our dataset to 157 unique parks."
   ]
  },
  {
   "cell_type": "markdown",
   "metadata": {},
   "source": [
    "**Rec Center Locations Data**\n",
    "\n",
    "Now when we have all the parks we are interested in, we can count how many recreational facilities a park holds. For that firstly we need to import *Rec Center Locations Dataset*. Then we will cound the number of recreational facilities that are located in our parks."
   ]
  },
  {
   "cell_type": "code",
   "execution_count": 8,
   "metadata": {},
   "outputs": [],
   "source": [
    "# Import Rec Center Locations Dataset and find number of rec facilities in parks\n",
    "gdf_rec = gpd.read_file(\"../data/rec_centers_datasd.geojson\")\n",
    "\n",
    "def find_rec(geometry):\n",
    "    number_rec = 0\n",
    "    for index, row in gdf_rec.iterrows():\n",
    "        if geometry.contains(row['geometry']):\n",
    "            number_rec += 1\n",
    "    return number_rec\n",
    "\n",
    "df['rec_facility_cnt'] = df.apply(lambda row: find_rec(row.geometry), axis = 1)"
   ]
  },
  {
   "cell_type": "code",
   "execution_count": 9,
   "metadata": {},
   "outputs": [
    {
     "name": "stdout",
     "output_type": "stream",
     "text": [
      "The total number of recreational facilities found in the park: 24\n"
     ]
    }
   ],
   "source": [
    "print(\"The total number of recreational facilities found in the park: {}\".format(sum(df['rec_facility_cnt'])))"
   ]
  },
  {
   "cell_type": "markdown",
   "metadata": {},
   "source": [
    "**Weighted Popularity**\n",
    "\n",
    "As our research question tries to predict characteristics that makes the park popular, we need to calculate the popularity index for each park from Yelp reviews. The formula we are going to use is:\n",
    "\n",
    "\\begin{align}\n",
    "P & = ((\\frac{v}{v+m}R) + (\\frac{m}{v+m}C)) \\log{v} \\\\\n",
    "\\end{align}\n",
    "\n",
    "Where,\n",
    "* P is weighted rating (popularity)\n",
    "* v is the number of reviews for the park\n",
    "* m is the minimum votes required to be listed\n",
    "* R is the average rating of the park\n",
    "* C is the mean vote across the whole report"
   ]
  },
  {
   "cell_type": "code",
   "execution_count": 10,
   "metadata": {},
   "outputs": [],
   "source": [
    "# Apply popularity fornm\n",
    "m = 1\n",
    "C = df['rating'].mean()\n",
    "\n",
    "df['popularity'] = df.apply(lambda row: ((row['review_count']/(row['review_count'] + m) * row['rating']) + (m/(row['review_count'] + m) * C))*(np.log(row['review_count'])+1), axis = 1) "
   ]
  },
  {
   "cell_type": "markdown",
   "metadata": {},
   "source": [
    "**Final DataFrame**"
   ]
  },
  {
   "cell_type": "code",
   "execution_count": 11,
   "metadata": {},
   "outputs": [
    {
     "data": {
      "text/html": [
       "<div>\n",
       "<style scoped>\n",
       "    .dataframe tbody tr th:only-of-type {\n",
       "        vertical-align: middle;\n",
       "    }\n",
       "\n",
       "    .dataframe tbody tr th {\n",
       "        vertical-align: top;\n",
       "    }\n",
       "\n",
       "    .dataframe thead th {\n",
       "        text-align: right;\n",
       "    }\n",
       "</style>\n",
       "<table border=\"1\" class=\"dataframe\">\n",
       "  <thead>\n",
       "    <tr style=\"text-align: right;\">\n",
       "      <th></th>\n",
       "      <th>name</th>\n",
       "      <th>rating</th>\n",
       "      <th>review_count</th>\n",
       "      <th>zip</th>\n",
       "      <th>median_income</th>\n",
       "      <th>type</th>\n",
       "      <th>acres</th>\n",
       "      <th>rec_facility_cnt</th>\n",
       "      <th>popularity</th>\n",
       "    </tr>\n",
       "  </thead>\n",
       "  <tbody>\n",
       "    <tr>\n",
       "      <th>0</th>\n",
       "      <td>Balboa Park</td>\n",
       "      <td>5.0</td>\n",
       "      <td>2105</td>\n",
       "      <td>92101</td>\n",
       "      <td>49158</td>\n",
       "      <td>Regional</td>\n",
       "      <td>1089.476460</td>\n",
       "      <td>3</td>\n",
       "      <td>43.256612</td>\n",
       "    </tr>\n",
       "    <tr>\n",
       "      <th>1</th>\n",
       "      <td>Torrey Pines State Reserve</td>\n",
       "      <td>4.5</td>\n",
       "      <td>1319</td>\n",
       "      <td>92037</td>\n",
       "      <td>94084</td>\n",
       "      <td>State</td>\n",
       "      <td>1466.798603</td>\n",
       "      <td>0</td>\n",
       "      <td>36.828284</td>\n",
       "    </tr>\n",
       "    <tr>\n",
       "      <th>2</th>\n",
       "      <td>Cowles Mountain</td>\n",
       "      <td>4.5</td>\n",
       "      <td>945</td>\n",
       "      <td>92119</td>\n",
       "      <td>74070</td>\n",
       "      <td>Open Space</td>\n",
       "      <td>381.708900</td>\n",
       "      <td>0</td>\n",
       "      <td>35.326923</td>\n",
       "    </tr>\n",
       "    <tr>\n",
       "      <th>3</th>\n",
       "      <td>Mount Soledad National Veterans Memorial</td>\n",
       "      <td>5.0</td>\n",
       "      <td>421</td>\n",
       "      <td>92037</td>\n",
       "      <td>94084</td>\n",
       "      <td>Local</td>\n",
       "      <td>118.536897</td>\n",
       "      <td>0</td>\n",
       "      <td>35.197964</td>\n",
       "    </tr>\n",
       "    <tr>\n",
       "      <th>4</th>\n",
       "      <td>Cabrillo National Monument</td>\n",
       "      <td>4.5</td>\n",
       "      <td>681</td>\n",
       "      <td>92106</td>\n",
       "      <td>75830</td>\n",
       "      <td>National</td>\n",
       "      <td>153.276913</td>\n",
       "      <td>0</td>\n",
       "      <td>33.851498</td>\n",
       "    </tr>\n",
       "    <tr>\n",
       "      <th>...</th>\n",
       "      <td>...</td>\n",
       "      <td>...</td>\n",
       "      <td>...</td>\n",
       "      <td>...</td>\n",
       "      <td>...</td>\n",
       "      <td>...</td>\n",
       "      <td>...</td>\n",
       "      <td>...</td>\n",
       "      <td>...</td>\n",
       "    </tr>\n",
       "    <tr>\n",
       "      <th>152</th>\n",
       "      <td>Vista Pacifica Park</td>\n",
       "      <td>4.0</td>\n",
       "      <td>1</td>\n",
       "      <td>92154</td>\n",
       "      <td>55077</td>\n",
       "      <td>Local</td>\n",
       "      <td>6.872379</td>\n",
       "      <td>0</td>\n",
       "      <td>4.044586</td>\n",
       "    </tr>\n",
       "    <tr>\n",
       "      <th>153</th>\n",
       "      <td>Wightman Street Neighborhood Park</td>\n",
       "      <td>4.0</td>\n",
       "      <td>1</td>\n",
       "      <td>92105</td>\n",
       "      <td>36738</td>\n",
       "      <td>Local</td>\n",
       "      <td>0.970419</td>\n",
       "      <td>0</td>\n",
       "      <td>4.044586</td>\n",
       "    </tr>\n",
       "    <tr>\n",
       "      <th>154</th>\n",
       "      <td>Teralta Park</td>\n",
       "      <td>3.0</td>\n",
       "      <td>1</td>\n",
       "      <td>92105</td>\n",
       "      <td>36738</td>\n",
       "      <td>Local</td>\n",
       "      <td>5.096408</td>\n",
       "      <td>0</td>\n",
       "      <td>3.544586</td>\n",
       "    </tr>\n",
       "    <tr>\n",
       "      <th>155</th>\n",
       "      <td>Nestor Neighborhood Park</td>\n",
       "      <td>2.0</td>\n",
       "      <td>1</td>\n",
       "      <td>92154</td>\n",
       "      <td>55077</td>\n",
       "      <td>Local</td>\n",
       "      <td>4.987712</td>\n",
       "      <td>0</td>\n",
       "      <td>3.044586</td>\n",
       "    </tr>\n",
       "    <tr>\n",
       "      <th>156</th>\n",
       "      <td>Vista Terrace Neighborhood Park</td>\n",
       "      <td>1.0</td>\n",
       "      <td>1</td>\n",
       "      <td>92173</td>\n",
       "      <td>36072</td>\n",
       "      <td>Local</td>\n",
       "      <td>8.142283</td>\n",
       "      <td>0</td>\n",
       "      <td>2.544586</td>\n",
       "    </tr>\n",
       "  </tbody>\n",
       "</table>\n",
       "<p>157 rows × 9 columns</p>\n",
       "</div>"
      ],
      "text/plain": [
       "                                         name  rating  review_count    zip  \\\n",
       "0                                 Balboa Park     5.0          2105  92101   \n",
       "1                  Torrey Pines State Reserve     4.5          1319  92037   \n",
       "2                             Cowles Mountain     4.5           945  92119   \n",
       "3    Mount Soledad National Veterans Memorial     5.0           421  92037   \n",
       "4                  Cabrillo National Monument     4.5           681  92106   \n",
       "..                                        ...     ...           ...    ...   \n",
       "152                       Vista Pacifica Park     4.0             1  92154   \n",
       "153         Wightman Street Neighborhood Park     4.0             1  92105   \n",
       "154                              Teralta Park     3.0             1  92105   \n",
       "155                  Nestor Neighborhood Park     2.0             1  92154   \n",
       "156           Vista Terrace Neighborhood Park     1.0             1  92173   \n",
       "\n",
       "     median_income        type        acres  rec_facility_cnt  popularity  \n",
       "0            49158    Regional  1089.476460                 3   43.256612  \n",
       "1            94084       State  1466.798603                 0   36.828284  \n",
       "2            74070  Open Space   381.708900                 0   35.326923  \n",
       "3            94084       Local   118.536897                 0   35.197964  \n",
       "4            75830    National   153.276913                 0   33.851498  \n",
       "..             ...         ...          ...               ...         ...  \n",
       "152          55077       Local     6.872379                 0    4.044586  \n",
       "153          36738       Local     0.970419                 0    4.044586  \n",
       "154          36738       Local     5.096408                 0    3.544586  \n",
       "155          55077       Local     4.987712                 0    3.044586  \n",
       "156          36072       Local     8.142283                 0    2.544586  \n",
       "\n",
       "[157 rows x 9 columns]"
      ]
     },
     "execution_count": 11,
     "metadata": {},
     "output_type": "execute_result"
    }
   ],
   "source": [
    "df = df.drop(columns=['geometry'])\n",
    "df = df.sort_values(by=['popularity'], ascending=False)\n",
    "df = df.reset_index(drop = True)\n",
    "df"
   ]
  },
  {
   "cell_type": "markdown",
   "metadata": {},
   "source": [
    "# Data Analysis & Results"
   ]
  },
  {
   "cell_type": "markdown",
   "metadata": {},
   "source": [
    "**Popularity**\n",
    "\n",
    "First of all let's look at the distribution of the popularity index."
   ]
  },
  {
   "cell_type": "code",
   "execution_count": 12,
   "metadata": {},
   "outputs": [
    {
     "data": {
      "image/png": "[encoded data removed]",
      "text/plain": [
       "<Figure size 432x288 with 1 Axes>"
      ]
     },
     "metadata": {
      "needs_background": "light"
     },
     "output_type": "display_data"
    }
   ],
   "source": [
    "ax = sns.distplot(df['popularity'], bins=70, color=\"purple\", norm_hist=False, kde=False)\n",
    "ax.set_title('Popularity Distribution')\n",
    "ax.set_xlabel('Popularity Index')\n",
    "ax.set_ylabel('Count')\n",
    "plot1 = plt.gcf()"
   ]
  },
  {
   "cell_type": "markdown",
   "metadata": {},
   "source": [
    "As we can see the distribution of the weighted popularity index is normally distributed."
   ]
  },
  {
   "cell_type": "markdown",
   "metadata": {},
   "source": [
    "**Area**\n",
    "\n",
    "Secondly, let's look at the distribution of the area among parks."
   ]
  },
  {
   "cell_type": "code",
   "execution_count": 13,
   "metadata": {},
   "outputs": [
    {
     "data": {
      "image/png": "[encoded data removed]",
      "text/plain": [
       "<Figure size 432x288 with 1 Axes>"
      ]
     },
     "metadata": {
      "needs_background": "light"
     },
     "output_type": "display_data"
    }
   ],
   "source": [
    "ax = sns.distplot(df['acres'], color=\"#EBE674\",)\n",
    "ax.set_title('Area Distribution')\n",
    "ax.set_xlabel('Acres')\n",
    "plot2 = plt.gcf()"
   ]
  },
  {
   "cell_type": "markdown",
   "metadata": {},
   "source": [
    "As we can see there is an outlier whick makes our task a little bit complicated. To fix this issue we can log the acres to see better distribution"
   ]
  },
  {
   "cell_type": "code",
   "execution_count": 14,
   "metadata": {},
   "outputs": [
    {
     "data": {
      "image/png": "[encoded data removed]",
      "text/plain": [
       "<Figure size 432x288 with 1 Axes>"
      ]
     },
     "metadata": {
      "needs_background": "light"
     },
     "output_type": "display_data"
    }
   ],
   "source": [
    "df['acres_log'] = df.apply(lambda row: np.log(row['acres']), axis = 1)\n",
    "ax = sns.distplot(df['acres_log'], color=\"#EBE674\",)\n",
    "ax.set_title('Area Distribution (logged)')\n",
    "ax.set_xlabel('Acres (logged)')\n",
    "plot3 = plt.gcf()"
   ]
  },
  {
   "cell_type": "markdown",
   "metadata": {},
   "source": [
    "As we can see, now the are of the parks seems being more normally distributed."
   ]
  },
  {
   "cell_type": "markdown",
   "metadata": {},
   "source": [
    "To check the correlation between area an popularity, let's make a scatterplot."
   ]
  },
  {
   "cell_type": "code",
   "execution_count": 15,
   "metadata": {},
   "outputs": [
    {
     "data": {
      "image/png": "[encoded data removed]",
      "text/plain": [
       "<Figure size 360x360 with 1 Axes>"
      ]
     },
     "metadata": {
      "needs_background": "light"
     },
     "output_type": "display_data"
    }
   ],
   "source": [
    "sns.lmplot(x='acres_log',y='popularity',data=df).fig.suptitle(\"Area of the park vs Popularity index\")\n",
    "plot4 = plt.gcf()"
   ]
  },
  {
   "cell_type": "markdown",
   "metadata": {},
   "source": [
    "There actually appeared a correlation between the size of the park and it's popularity, although the deviation is pretty big."
   ]
  },
  {
   "cell_type": "markdown",
   "metadata": {},
   "source": [
    "**Zip Distribution**\n",
    "\n",
    "Not let's see how the parks are distributed within different areas (zip codes). To make it easier to see the distribution we'll order the zip codes by number of the parks in the area."
   ]
  },
  {
   "cell_type": "code",
   "execution_count": 16,
   "metadata": {},
   "outputs": [
    {
     "data": {
      "image/png": "[encoded data removed]",
      "text/plain": [
       "<Figure size 432x288 with 1 Axes>"
      ]
     },
     "metadata": {
      "needs_background": "light"
     },
     "output_type": "display_data"
    }
   ],
   "source": [
    "ax = sns.countplot(x=\"zip\", data=df, palette=[\"#FAAE7B\"], order=df['zip'].value_counts().index)\n",
    "ax.set_title('Zip Distribution')\n",
    "ax.set_xlabel('Zip Code')\n",
    "ax.set_ylabel('Count')\n",
    "xticks=ax.xaxis.get_major_ticks()\n",
    "for i in range(len(xticks)):\n",
    "    if i%3>0:\n",
    "        xticks[i].set_visible(False)\n",
    "ax.set_xticklabels(ax.get_xticklabels(), rotation=40, ha=\"right\")\n",
    "plot5 = plt.gcf()"
   ]
  },
  {
   "cell_type": "markdown",
   "metadata": {},
   "source": [
    "As we can see, the parks are distributed not uniformly. some areas are having 7-10 parks while others only 1.\n",
    "\n",
    "Note: The x-axis(zip codes) are not coisidered as useful observation here. I included them only for reference as an example."
   ]
  },
  {
   "cell_type": "markdown",
   "metadata": {},
   "source": [
    "**Median Household Income**\n",
    "\n",
    "Next distribution we are going to examine is the median household income in the area where the park located."
   ]
  },
  {
   "cell_type": "code",
   "execution_count": 17,
   "metadata": {},
   "outputs": [
    {
     "data": {
      "image/png": "[encoded data removed]",
      "text/plain": [
       "<Figure size 432x288 with 1 Axes>"
      ]
     },
     "metadata": {
      "needs_background": "light"
     },
     "output_type": "display_data"
    }
   ],
   "source": [
    "ax = sns.distplot(df['median_income'], bins=40, color=\"g\", norm_hist=False, kde=False)\n",
    "ax.set_title('Median Household Income Distribution')\n",
    "ax.set_xlabel('Median Income')\n",
    "ax.set_ylabel('Count')\n",
    "plot6 = plt.gcf()"
   ]
  },
  {
   "cell_type": "markdown",
   "metadata": {},
   "source": [
    "As we can see the median household income is not normally nor evenly distributed among the parks with the outlier at >120000 value."
   ]
  },
  {
   "cell_type": "code",
   "execution_count": 18,
   "metadata": {},
   "outputs": [
    {
     "data": {
      "image/png": "[encoded data removed]",
      "text/plain": [
       "<Figure size 360x360 with 1 Axes>"
      ]
     },
     "metadata": {
      "needs_background": "light"
     },
     "output_type": "display_data"
    }
   ],
   "source": [
    "sns.lmplot(x='median_income',y='popularity',data=df).fig.suptitle(\"Median Income vs Popularity index\")\n",
    "plot7 = plt.gcf()"
   ]
  },
  {
   "cell_type": "markdown",
   "metadata": {},
   "source": [
    "The correlation between median household income and the popularity of the park appears to be minimal. It seems like the median income of the neighbourhood doesn't affect the popularity of the park."
   ]
  },
  {
   "cell_type": "markdown",
   "metadata": {},
   "source": [
    "**Number of recreational facilities**\n",
    "\n",
    "Let's see the scatter plot for the number of recreational facilities in the park."
   ]
  },
  {
   "cell_type": "code",
   "execution_count": 19,
   "metadata": {},
   "outputs": [
    {
     "data": {
      "image/png": "[encoded data removed]",
      "text/plain": [
       "<Figure size 360x360 with 1 Axes>"
      ]
     },
     "metadata": {
      "needs_background": "light"
     },
     "output_type": "display_data"
    }
   ],
   "source": [
    "sns.lmplot(x='rec_facility_cnt',y='popularity',data=df).fig.suptitle(\"Recreational facilities # vs Popularity index\")\n",
    "plot8 = plt.gcf()"
   ]
  },
  {
   "cell_type": "markdown",
   "metadata": {},
   "source": [
    "It seems like there's a little correlation between the number of recreational facilities in the park and population. But it can also be related to the area of the park or other features."
   ]
  },
  {
   "cell_type": "markdown",
   "metadata": {},
   "source": [
    "**Type of the park**\n",
    "\n",
    "Anf finallu let's look at the distribution of the types of parks."
   ]
  },
  {
   "cell_type": "code",
   "execution_count": 20,
   "metadata": {},
   "outputs": [
    {
     "data": {
      "image/png": "[encoded data removed]",
      "text/plain": [
       "<Figure size 432x288 with 1 Axes>"
      ]
     },
     "metadata": {
      "needs_background": "light"
     },
     "output_type": "display_data"
    }
   ],
   "source": [
    "ax = sns.countplot(x=\"type\", data=df, palette=[\"#add8e6\"], order=df['type'].value_counts().index)\n",
    "ax.set_title('Park Type Distribution')\n",
    "ax.set_xlabel('Type')\n",
    "ax.set_ylabel('Count')\n",
    "ax.set_xticklabels(ax.get_xticklabels(), rotation=40, ha=\"right\")\n",
    "plot9 = plt.gcf()"
   ]
  },
  {
   "cell_type": "markdown",
   "metadata": {},
   "source": [
    "As expected the most common type of the park in San Diego is *Local* park. Then we can see that following the leader the number of Open Space and Regional parks are having about the same count. The we have the state parks that are taking the fraction of the total amount of SD parks. And finally the National, Historic and Other types of parks have the minimum count."
   ]
  },
  {
   "cell_type": "markdown",
   "metadata": {},
   "source": [
    "**OSL Regression**\n",
    "\n",
    "Let's build OSL Regression model to verify our observations."
   ]
  },
  {
   "cell_type": "code",
   "execution_count": 21,
   "metadata": {},
   "outputs": [
    {
     "name": "stdout",
     "output_type": "stream",
     "text": [
      "                            OLS Regression Results                            \n",
      "==============================================================================\n",
      "Dep. Variable:             popularity   R-squared:                       0.374\n",
      "Model:                            OLS   Adj. R-squared:                  0.336\n",
      "Method:                 Least Squares   F-statistic:                     9.769\n",
      "Date:                Wed, 16 Dec 2020   Prob (F-statistic):           1.22e-11\n",
      "Time:                        21:23:33   Log-Likelihood:                -501.77\n",
      "No. Observations:                 157   AIC:                             1024.\n",
      "Df Residuals:                     147   BIC:                             1054.\n",
      "Df Model:                           9                                         \n",
      "Covariance Type:            nonrobust                                         \n",
      "======================================================================================\n",
      "                         coef    std err          t      P>|t|      [0.025      0.975]\n",
      "--------------------------------------------------------------------------------------\n",
      "Intercept             16.0667      6.230      2.579      0.011       3.754      28.379\n",
      "type[T.Local]         -6.9695      6.156     -1.132      0.259     -19.135       5.196\n",
      "type[T.National]       9.5199      8.709      1.093      0.276      -7.690      26.730\n",
      "type[T.Open Space]    -5.4478      6.336     -0.860      0.391     -17.970       7.074\n",
      "type[T.Other]          1.4301      8.678      0.165      0.869     -15.719      18.580\n",
      "type[T.Regional]       0.2848      6.501      0.044      0.965     -12.564      13.133\n",
      "type[T.State]          3.3311      6.830      0.488      0.626     -10.167      16.829\n",
      "acres_log              1.1355      0.357      3.184      0.002       0.431       1.840\n",
      "median_income       3.364e-05   1.84e-05      1.824      0.070    -2.8e-06    7.01e-05\n",
      "rec_facility_cnt       1.6119      1.233      1.307      0.193      -0.825       4.048\n",
      "==============================================================================\n",
      "Omnibus:                        4.167   Durbin-Watson:                   0.641\n",
      "Prob(Omnibus):                  0.124   Jarque-Bera (JB):                4.166\n",
      "Skew:                           0.395   Prob(JB):                        0.125\n",
      "Kurtosis:                       2.883   Cond. No.                     2.80e+06\n",
      "==============================================================================\n",
      "\n",
      "Warnings:\n",
      "[1] Standard Errors assume that the covariance matrix of the errors is correctly specified.\n",
      "[2] The condition number is large, 2.8e+06. This might indicate that there are\n",
      "strong multicollinearity or other numerical problems.\n"
     ]
    }
   ],
   "source": [
    "outcome, predictors = patsy.dmatrices('popularity ~ type + acres_log + median_income + rec_facility_cnt', df)\n",
    "model=sm.OLS(outcome, predictors)\n",
    "res=model.fit()\n",
    "print(res.summary())"
   ]
  },
  {
   "cell_type": "markdown",
   "metadata": {},
   "source": [
    "It seems like our features correlated with the popularity at 37% as reported by R-squared metric which is not very significant.\n",
    "\n",
    "The most significant feature of the park, surprisingly, appeared to be the area of the park. It means that my hypothesis for this research was wrong.\n",
    "\n",
    "Median household income has a little correlation with popularity but not significant in our case.\n",
    "\n",
    "The recreational facilities count seems to have little significance as well.\n",
    "\n",
    "The type of the park seems to be not correlated with the popularity at all. "
   ]
  },
  {
   "cell_type": "markdown",
   "metadata": {},
   "source": [
    "# Ethics & Privacy"
   ]
  },
  {
   "cell_type": "markdown",
   "metadata": {},
   "source": [
    "All of the information for my datasets were acquired from the open source, avoiding collection information manually or from individuals, so without risking of disclosing any private information. \n",
    "\n",
    "All the data regarding the projects and the parks themselves is already available as they were processed by the Parks and Recreation department. The records about the region/neighborhood of the park wew aquired from the open detabase service https://datasurfer.sandag.org (SANDAG, U.S. Census Bureau (data extracted on: 12/2020)). \n",
    "\n",
    "The issues of privacy, ethics and unreliable/not accurate data should be considered. To solve this problem, I analyze the way the data is collected and make needed adjustments to account the possible error in measurements or the privacy issues. As the information was collected by U.S. Census Bureau, there is no known problem about the unknown way the data was collected and processed. \n",
    "\n",
    "The Yelp Reviews data consists only the public information about the facilities and summary of the published reviews. No personal data was recorded or used in this dataset.\n",
    "\n",
    "The important bias in the dataset and especially in the result is that some projects might be associated with the specific region characteristics like the economical differences and racial diversity. This connection is both statistically important to achieve our goal as well as having some ethical issues which should be avoided. I believe that the way to avoid them is to thoroughly analyze the patterns and the reasons of all the results provided by the model."
   ]
  },
  {
   "cell_type": "markdown",
   "metadata": {},
   "source": [
    "# Conclusion & Discussion"
   ]
  },
  {
   "cell_type": "markdown",
   "metadata": {},
   "source": [
    "This research was designed to find the relation between popularity of the park with the park's characteristics. The analysis showed the small correlation of 37% between the proposed features and the park's popularity index. The most correlated feature appeared to be the area of the park.\n",
    "\n",
    "These results show that my hypothesis cannot be supported, and the type of the park and the median household income weren't the features that affected the park's popularity the most.\n",
    "\n",
    "The limitations of this research include the limitations due to constraints on methodology and research design. The possible errors and and unreliable/not accurate conclusions of the research could be the limited or not accurate data as well as the ways I am handling/understanding the data. There also a possibility of some model design decisions that could also lead to some margin of error (*example*: downsizing parks that are located within other parks).\n",
    "\n",
    "Although my hypothesis for this research wasn't supported, the research question of this project was answered: the area of the park seems to have the largest correlation among the other tested characteristics. The deeper investigation of the proposed as well as other characteristics can be made to have more complete understanding of how can we distinguish the popular parks from less popular ones to increase the overall customer satisfaction and decrease the budget spent. And another possible improvement that could increase the accuracy of the results is the popularity index based on the poll rather than Yelp reviews as the way for it to be more precise and less skewed to  only the Internet/Yelp users."
   ]
  },
  {
   "cell_type": "code",
   "execution_count": null,
   "metadata": {},
   "outputs": [],
   "source": []
  }
 ],
 "metadata": {
  "kernelspec": {
   "display_name": "Python 3",
   "language": "python",
   "name": "python3"
  },
  "language_info": {
   "codemirror_mode": {
    "name": "ipython",
    "version": 3
   },
   "file_extension": ".py",
   "mimetype": "text/x-python",
   "name": "python",
   "nbconvert_exporter": "python",
   "pygments_lexer": "ipython3",
   "version": "3.7.6"
  }
 },
 "nbformat": 4,
 "nbformat_minor": 2
}
